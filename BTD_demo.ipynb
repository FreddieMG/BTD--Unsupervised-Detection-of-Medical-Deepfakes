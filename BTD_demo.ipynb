{
  "nbformat": 4,
  "nbformat_minor": 0,
  "metadata": {
    "colab": {
      "provenance": []
    },
    "kernelspec": {
      "name": "python3",
      "display_name": "Python 3"
    },
    "language_info": {
      "name": "python"
    }
  },
  "cells": [
    {
      "cell_type": "code",
      "execution_count": null,
      "metadata": {
        "id": "7nOjx5U1DhrF"
      },
      "outputs": [],
      "source": [
        "!pip install -q kaggle\n",
        "!pip install denoising_diffusion_pytorch\n",
        "clear_output()"
      ]
    },
    {
      "cell_type": "code",
      "source": [
        "import os\n",
        "import pandas as pd\n",
        "import numpy as np\n",
        "import torch\n",
        "from torch.utils.data import Dataset, DataLoader\n",
        "from torchvision import transforms\n",
        "import numpy as np\n",
        "from IPython.display import clear_output\n",
        "from PIL import Image\n",
        "from denoising_diffusion_pytorch import Unet, GaussianDiffusion\n",
        "clear_output()"
      ],
      "metadata": {
        "id": "CczfloOf11Cg"
      },
      "execution_count": null,
      "outputs": []
    },
    {
      "cell_type": "code",
      "source": [
        "from google.colab import files\n",
        "files.upload()\n",
        "clear_output()"
      ],
      "metadata": {
        "id": "BVeS74WkDqqF"
      },
      "execution_count": null,
      "outputs": []
    },
    {
      "cell_type": "code",
      "source": [
        "!mkdir ~/.kaggle\n",
        "!mv ./kaggle.json ~/.kaggle/\n",
        "!chmod 600 ~/.kaggle/kaggle.json\n",
        "!kaggle datasets download -d freddiegraboski/btd-mri-and-ct-deepfake-test-sets\n",
        "! unzip \"btd-mri-and-ct-deepfake-test-sets.zip\"\n",
        "clear_output()"
      ],
      "metadata": {
        "id": "r3CmaP1WDtOL"
      },
      "execution_count": null,
      "outputs": []
    },
    {
      "cell_type": "code",
      "source": [
        "\n",
        "class MedicalDeepfakeDataset(Dataset):\n",
        "    def __init__(self, root_dir, modality, attack_type, tamper_type, patch_size, transform=None):\n",
        "        self.root_dir = root_dir\n",
        "        self.modality = modality\n",
        "        self.attack_type = attack_type\n",
        "        self.tamper_type = tamper_type\n",
        "        self.patch_size = patch_size\n",
        "        self.transform = transform\n",
        "\n",
        "        # Load the appropriate CSV file\n",
        "        if modality == 'CT':\n",
        "            csv_path = os.path.join(root_dir, f'CT/{attack_type}/CT_{attack_type}.csv')\n",
        "            self.data_frame = pd.read_csv(csv_path)\n",
        "            if tamper_type:\n",
        "                self.data_frame = self.data_frame[self.data_frame[f'{tamper_type}-CT-{attack_type}'] == 1]\n",
        "        elif modality == 'MRI':\n",
        "            csv_path = os.path.join(root_dir, f'MRI/MRI_{attack_type}.csv')\n",
        "            self.data_frame = pd.read_csv(csv_path)\n",
        "        else:\n",
        "            raise ValueError('Invalid modality. Choose either \"CT\" or \"MRI\".')\n",
        "\n",
        "    def __len__(self):\n",
        "        return len(self.data_frame)\n",
        "\n",
        "    def __getitem__(self, idx):\n",
        "        if torch.is_tensor(idx):\n",
        "            idx = idx.tolist()\n",
        "\n",
        "        row = self.data_frame.iloc[idx]\n",
        "        file_path = row['path']\n",
        "        x, y = row[['x', 'y']].astype(int)\n",
        "        label = row['type']\n",
        "\n",
        "        # Load and normalize the image\n",
        "        if self.modality == 'CT':\n",
        "            image = np.load(file_path)\n",
        "            image = np.clip(image, -700, 2000)\n",
        "            image = (image + 700) / 2700\n",
        "        elif self.modality == 'MRI':\n",
        "            image = Image.open(file_path).convert('L')  # Convert to grayscale\n",
        "            if self.transform:\n",
        "                image = self.transform(image).squeeze().numpy()\n",
        "            image = np.clip(image, -700, 2000)\n",
        "            image = (image + 700) / 2700\n",
        "\n",
        "        # Calculate patch coordinates\n",
        "        half_patch = self.patch_size // 2\n",
        "        start_x = max(0, x - half_patch)\n",
        "        end_x = min(image.shape[1], x + half_patch)\n",
        "        start_y = max(0, y - half_patch)\n",
        "        end_y = min(image.shape[0], y + half_patch)\n",
        "\n",
        "        # Extract patch\n",
        "        patch = image[start_y:end_y, start_x:end_x]\n",
        "\n",
        "        # Ensure patch is the correct size by padding if necessary\n",
        "        if patch.shape[0] != self.patch_size or patch.shape[1] != self.patch_size:\n",
        "            patch = np.pad(patch, ((0, self.patch_size - patch.shape[0]), (0, self.patch_size - patch.shape[1])), 'constant')\n",
        "\n",
        "        patch = patch.reshape(1, self.patch_size, self.patch_size)  # Add channel dimension\n",
        "\n",
        "        sample = {'image': patch, 'label': label}\n",
        "\n",
        "        return sample"
      ],
      "metadata": {
        "id": "EEpq4g0L6F36"
      },
      "execution_count": null,
      "outputs": []
    },
    {
      "cell_type": "code",
      "source": [
        "\n",
        "transform = transforms.Compose([\n",
        "    transforms.ToTensor()\n",
        "])\n",
        "\n",
        "# Define root directory\n",
        "root_dir = ''"
      ],
      "metadata": {
        "id": "XIqSMKPBLCtc"
      },
      "execution_count": null,
      "outputs": []
    },
    {
      "cell_type": "code",
      "source": [
        "\n",
        "# ## CTGAN-CT-Inject\n",
        "# This dataset contains CT scans with cancer injected using the CTGAN method.\n",
        "ctgan_ct_inject_dataset = MedicalDeepfakeDataset(\n",
        "    root_dir=root_dir,\n",
        "    modality='CT',\n",
        "    attack_type='injection',\n",
        "    tamper_type='CTGAN',\n",
        "    patch_size=96,\n",
        "    transform=transform\n",
        ")\n",
        "ctgan_ct_inject_dataloader = DataLoader(ctgan_ct_inject_dataset, batch_size=32, shuffle=True)\n",
        "\n",
        "# ## SD-CT-Inject\n",
        "# This dataset contains CT scans with cancer injected using the Stable Diffusion method.\n",
        "sd_ct_inject_dataset = MedicalDeepfakeDataset(\n",
        "    root_dir=root_dir,\n",
        "    modality='CT',\n",
        "    attack_type='injection',\n",
        "    tamper_type='SD',\n",
        "    patch_size=96,\n",
        "    transform=transform\n",
        ")\n",
        "sd_ct_inject_dataloader = DataLoader(sd_ct_inject_dataset, batch_size=32, shuffle=True)\n",
        "\n",
        "# ## CTGAN-CT-Remove\n",
        "# This dataset contains CT scans with cancer removed using the CTGAN method.\n",
        "ctgan_ct_remove_dataset = MedicalDeepfakeDataset(\n",
        "    root_dir=root_dir,\n",
        "    modality='CT',\n",
        "    attack_type='removal',\n",
        "    tamper_type='CTGAN',\n",
        "    patch_size=96,\n",
        "    transform=transform\n",
        ")\n",
        "ctgan_ct_remove_dataloader = DataLoader(ctgan_ct_remove_dataset, batch_size=32, shuffle=True)\n",
        "\n",
        "# ## SD-CT-Remove\n",
        "# This dataset contains CT scans with cancer removed using the Stable Diffusion method.\n",
        "sd_ct_remove_dataset = MedicalDeepfakeDataset(\n",
        "    root_dir=root_dir,\n",
        "    modality='CT',\n",
        "    attack_type='removal',\n",
        "    tamper_type='SD',\n",
        "    patch_size=96,\n",
        "    transform=transform\n",
        ")\n",
        "sd_ct_remove_dataloader = DataLoader(sd_ct_remove_dataset, batch_size=32, shuffle=True)\n",
        "\n",
        "# ## SD-MRI-Inject\n",
        "# This dataset contains MRI scans with cancer injected using the Stable Diffusion method.\n",
        "sd_mri_inject_dataset = MedicalDeepfakeDataset(\n",
        "    root_dir=root_dir,\n",
        "    modality='MRI',\n",
        "    attack_type='injection',\n",
        "    tamper_type=None,  # No specific tamper type needed for MRI\n",
        "    patch_size=128,\n",
        "    transform=transform\n",
        ")\n",
        "sd_mri_inject_dataloader = DataLoader(sd_mri_inject_dataset, batch_size=32, shuffle=True)\n",
        "\n",
        "# ## SD-MRI-Remove\n",
        "# This dataset contains MRI scans with cancer removed using the Stable Diffusion method.\n",
        "sd_mri_remove_dataset = MedicalDeepfakeDataset(\n",
        "    root_dir=root_dir,\n",
        "    modality='MRI',\n",
        "    attack_type='removal',\n",
        "    tamper_type=None,  # No specific tamper type needed for MRI\n",
        "    patch_size=128,\n",
        "    transform=transform\n",
        ")\n",
        "sd_mri_remove_dataloader = DataLoader(sd_mri_remove_dataset, batch_size=32, shuffle=True)\n"
      ],
      "metadata": {
        "id": "rtCTqN6gLDiq"
      },
      "execution_count": null,
      "outputs": []
    }
  ]
}